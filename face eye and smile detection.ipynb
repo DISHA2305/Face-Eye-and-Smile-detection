{
 "cells": [
  {
   "cell_type": "code",
   "execution_count": 3,
   "metadata": {},
   "outputs": [],
   "source": [
    "import cv2\n",
    "import numpy as np"
   ]
  },
  {
   "cell_type": "code",
   "execution_count": 12,
   "metadata": {},
   "outputs": [],
   "source": [
    "eye_xml = r\"C:\\Users\\lenovo\\Downloads\\eye.xml\"\n",
    "face_xml = r\"C:\\Users\\lenovo\\Downloads\\face.xml\"\n",
    "img_path = r\"C:\\Users\\lenovo\\Downloads\\myimage.jpg\"\n",
    "smile_xml = r\"C:\\Users\\lenovo\\Downloads\\smile.xml\"\n",
    "eye_cascade = cv2.CascadeClassifier(eye_xml)\n",
    "face_cascade = cv2.CascadeClassifier(face_xml)\n",
    "smile_cascade = cv2.CascadeClassifier(smile_xml)\n"
   ]
  },
  {
   "cell_type": "code",
   "execution_count": 18,
   "metadata": {},
   "outputs": [],
   "source": [
    "cam = cv2.VideoCapture(0)\n",
    "while True:\n",
    "    ret,img = cam.read()\n",
    "    faces = face_cascade.detectMultiScale(img,1.2,15)\n",
    "    for (x,y,w,h) in faces:\n",
    "        cv2.rectangle(img,(x,y),(x+w,y+h),(255,0.0),2)\n",
    "        single_face = img[y:y+h, x:x+w]\n",
    "        eyes = eye_cascade.detectMultiScale(single_face,1.3,18)\n",
    "        for (ex,ey,ew,eh) in eyes:\n",
    "            cv2.rectangle(single_face,(ex,ey),(ex+ew,ey+eh),(0,255,0),2)\n",
    "            smiles = smile_cascade.detectMultiScale(single_face,1.9,18)\n",
    "            for sx,sy,sw,sh in smiles:\n",
    "                cv2.rectangle(single_face,(sx,sy),(sx+sw,sy+sh),(0,0,255),2)\n",
    "    \n",
    "    cv2.imshow('img',img)\n",
    "    k = cv2.waitKey(30) & 0xff\n",
    "    if k == 13:\n",
    "        break\n",
    "    \n",
    "cam.release()\n",
    "cv2.destroyAllWindows()\n"
   ]
  },
  {
   "cell_type": "code",
   "execution_count": null,
   "metadata": {},
   "outputs": [],
   "source": []
  }
 ],
 "metadata": {
  "kernelspec": {
   "display_name": "Python 3",
   "language": "python",
   "name": "python3"
  },
  "language_info": {
   "codemirror_mode": {
    "name": "ipython",
    "version": 3
   },
   "file_extension": ".py",
   "mimetype": "text/x-python",
   "name": "python",
   "nbconvert_exporter": "python",
   "pygments_lexer": "ipython3",
   "version": "3.8.3"
  }
 },
 "nbformat": 4,
 "nbformat_minor": 4
}
